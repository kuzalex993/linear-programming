{
 "cells": [
  {
   "cell_type": "code",
   "execution_count": 1,
   "metadata": {},
   "outputs": [],
   "source": [
    "import pandas as pd\n",
    "import seaborn as sns\n",
    "import matplotlib.pyplot as plt\n",
    "import numpy as np\n",
    "from numpy.linalg import matrix_rank\n",
    "from scipy.optimize import linprog # for LP\n",
    "import datetime\n",
    "import math\n",
    "from scipy.sparse import rand\n",
    "from scipy.optimize import lsq_linear\n",
    "from IPython.display import display, Latex # for output compilation\n",
    "#specify that all columns should be shown\n",
    "pd.set_option('display.max_rows', None)"
   ]
  },
  {
   "cell_type": "markdown",
   "metadata": {},
   "source": [
    "$$ \\left\\{\\begin{matrix} \n",
    "a_{11} x_1 + a_{12} x_2 + ... +a_{n1} x_n = b_1\\\\ \n",
    "a_{21} x_1 + a_{22} x_2 + ... +a_{21} x_n = b_2\\\\ \n",
    "...\\\\\n",
    "a_{m1} x_1 + a_{m2} x_2 + ... +a_{m1} x_n = b_m\\\\\n",
    "\\end{matrix}\\right .$$\n",
    "\n"
   ]
  },
  {
   "cell_type": "markdown",
   "metadata": {},
   "source": [
    "$$ A = \\begin{bmatrix}a_{11} & \\cdots & a_{1n} \\\\ \\vdots & \\ddots & \\vdots \\\\ a_{m1} & \\cdots & a_{mn}\\end{bmatrix}, \\ x = \\begin{bmatrix}x_1 \\\\ \\vdots \\\\ x_n\\end{bmatrix}, \\ B =\\begin{bmatrix}b_1 \\\\ \\vdots \\\\ b_n\\end{bmatrix} $$\n",
    "\n",
    "$$ Ax = b $$\n",
    "\n",
    "$$x_j > 0$$\n",
    "\n",
    "$$x = \\alpha x + \\beta $$\n",
    "$$x^{(k+1)} = \\alpha x^{(k)} + \\beta $$\n",
    "$$x^{(k+1)} = \\alpha x^{(k)} + \\beta $$\n",
    "$$ \\left \\| x^{(k+1)} - x^{(k)} \\right \\|< \\varepsilon \\rightarrow min$$"
   ]
  },
  {
   "cell_type": "markdown",
   "metadata": {},
   "source": [
    "### Read initial data"
   ]
  },
  {
   "cell_type": "code",
   "execution_count": 2,
   "metadata": {},
   "outputs": [],
   "source": [
    "path_to_preprocessed = 'Data/Schöpfleuthnergasse/Preprocessed data/'"
   ]
  },
  {
   "cell_type": "code",
   "execution_count": 3,
   "metadata": {},
   "outputs": [],
   "source": [
    "A_df = pd.read_csv(path_to_preprocessed + 'A_matrix_only_concrete.csv')\n",
    "b_df = pd.read_csv(path_to_preprocessed + 'b_vector_only_concrete.csv')"
   ]
  },
  {
   "cell_type": "code",
   "execution_count": 4,
   "metadata": {},
   "outputs": [],
   "source": [
    "b = np.array(b_df.betrag, dtype = float)\n",
    "A = np.array(A_df, dtype = float, order='C')"
   ]
  },
  {
   "cell_type": "code",
   "execution_count": 5,
   "metadata": {},
   "outputs": [],
   "source": [
    "## We can define constrains for prices( can be taken from supplier/fin.report???)\n",
    "lb = 10\n",
    "ub = lb + 100"
   ]
  },
  {
   "cell_type": "code",
   "execution_count": 6,
   "metadata": {},
   "outputs": [
    {
     "name": "stdout",
     "output_type": "stream",
     "text": [
      "The relative change of the cost function is less than `tol`.\n",
      "Number of iterations 9, initial cost 2.2454e+09, final cost 6.8567e+08, first-order optimality 7.89e-07.\n"
     ]
    },
    {
     "data": {
      "text/plain": [
       "       message: The relative change of the cost function is less than `tol`.\n",
       "       success: True\n",
       "        status: 2\n",
       "           fun: [ 7.028e+03 -6.036e+03 ...  4.936e+02  8.340e+02]\n",
       "             x: [ 1.000e+01  7.427e+01 ...  6.506e+01  1.000e+01]\n",
       "           nit: 9\n",
       "          cost: 685669859.7363224\n",
       "    optimality: 7.888832815813845e-07\n",
       "   active_mask: [-1  0 ...  0 -1]\n",
       " unbounded_sol: (array([ 4.138e+03, -1.741e+03, ...,  5.826e+01, -3.038e+02]), array([], dtype=float64), 12, array([ 1.129e+03,  7.418e+02, ...,  3.540e-16,  5.900e-17]))"
      ]
     },
     "execution_count": 6,
     "metadata": {},
     "output_type": "execute_result"
    }
   ],
   "source": [
    "res = lsq_linear(A, b, bounds=(lb, ub), lsmr_tol='auto', verbose=1)\n",
    "res"
   ]
  },
  {
   "cell_type": "code",
   "execution_count": 7,
   "metadata": {},
   "outputs": [],
   "source": [
    "XXs = pd.DataFrame(res['x'], columns = ['x_i'])\n",
    "fun = pd.DataFrame(res['fun'], columns = ['res'])"
   ]
  },
  {
   "cell_type": "code",
   "execution_count": 8,
   "metadata": {},
   "outputs": [
    {
     "data": {
      "text/plain": [
       "<Axes: >"
      ]
     },
     "execution_count": 8,
     "metadata": {},
     "output_type": "execute_result"
    },
    {
     "data": {
      "image/png": "[encoded data removed]",
      "text/plain": [
       "<Figure size 640x480 with 1 Axes>"
      ]
     },
     "metadata": {},
     "output_type": "display_data"
    }
   ],
   "source": [
    "XXs.plot.bar()"
   ]
  },
  {
   "cell_type": "code",
   "execution_count": 9,
   "metadata": {},
   "outputs": [
    {
     "data": {
      "text/plain": [
       "<Axes: >"
      ]
     },
     "execution_count": 9,
     "metadata": {},
     "output_type": "execute_result"
    },
    {
     "data": {
      "image/png": "[encoded data removed]",
      "text/plain": [
       "<Figure size 640x480 with 1 Axes>"
      ]
     },
     "metadata": {},
     "output_type": "display_data"
    }
   ],
   "source": [
    "fun.plot.bar()"
   ]
  },
  {
   "cell_type": "code",
   "execution_count": 10,
   "metadata": {},
   "outputs": [],
   "source": [
    "str_latex = '+'.join( str(round(XXs.x_i.iloc[i],3)) +'x_{' + str(i+1) + '}' for i in range(XXs['x_i'].shape[0]))"
   ]
  },
  {
   "cell_type": "code",
   "execution_count": 11,
   "metadata": {},
   "outputs": [
    {
     "data": {
      "text/latex": [
       "$$f(x)=10.0x_{1}+74.266x_{2}+10.0x_{3}+110.0x_{4}+62.937x_{5}+110.0x_{6}+110.0x_{7}+110.0x_{8}+110.0x_{9}+10.0x_{10}+110.0x_{11}+110.0x_{12}+65.056x_{13}+10.0x_{14}$$"
      ],
      "text/plain": [
       "<IPython.core.display.Latex object>"
      ]
     },
     "metadata": {},
     "output_type": "display_data"
    }
   ],
   "source": [
    "display(Latex('$$f(x)=' + str_latex + '$$'))"
   ]
  },
  {
   "cell_type": "code",
   "execution_count": null,
   "metadata": {},
   "outputs": [],
   "source": []
  }
 ],
 "metadata": {
  "kernelspec": {
   "display_name": "Python 3.9.12 ('py3912')",
   "language": "python",
   "name": "python3"
  },
  "language_info": {
   "codemirror_mode": {
    "name": "ipython",
    "version": 3
   },
   "file_extension": ".py",
   "mimetype": "text/x-python",
   "name": "python",
   "nbconvert_exporter": "python",
   "pygments_lexer": "ipython3",
   "version": "3.9.12"
  },
  "orig_nbformat": 4,
  "vscode": {
   "interpreter": {
    "hash": "5cbf9cc53819389ea0520b1d9eca232c9ba277cde8990581c1131097771578c3"
   }
  }
 },
 "nbformat": 4,
 "nbformat_minor": 2
}
